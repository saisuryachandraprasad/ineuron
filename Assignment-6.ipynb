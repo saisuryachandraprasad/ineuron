{
 "cells": [
  {
   "cell_type": "code",
   "execution_count": null,
   "id": "be8405d9",
   "metadata": {},
   "outputs": [],
   "source": [
    "1--> escape character are those which are used for special purpose. we can use in strings or any block of code to have saome white-\n",
    "space. with'\\'."
   ]
  },
  {
   "cell_type": "code",
   "execution_count": null,
   "id": "acedc31b",
   "metadata": {},
   "outputs": [],
   "source": [
    "2-->What do the escape characters n and t stand for?\n",
    "\\n use for new line\n",
    "and \\t used as tab for white spaces"
   ]
  },
  {
   "cell_type": "code",
   "execution_count": null,
   "id": "2d4cdce2",
   "metadata": {},
   "outputs": [],
   "source": [
    "3-->What is the way to include backslash characters in a string?\n",
    "we use '\\\\' "
   ]
  },
  {
   "cell_type": "code",
   "execution_count": null,
   "id": "c75aa229",
   "metadata": {},
   "outputs": [],
   "source": [
    "4-->there is no problem associated with escape character\n",
    "when we have to use (\"Howl's\") use \" \" is there is any ' in string.\n"
   ]
  },
  {
   "cell_type": "code",
   "execution_count": null,
   "id": "df246c99",
   "metadata": {},
   "outputs": [],
   "source": [
    "5-->we can iuse 'enter'. or newline without extraline means use 'end='"
   ]
  },
  {
   "cell_type": "code",
   "execution_count": 2,
   "id": "1986170e",
   "metadata": {},
   "outputs": [
    {
     "data": {
      "text/plain": [
       "'e'"
      ]
     },
     "execution_count": 2,
     "metadata": {},
     "output_type": "execute_result"
    }
   ],
   "source": [
    " 6--> 'Hello World!'[1]"
   ]
  },
  {
   "cell_type": "code",
   "execution_count": 4,
   "id": "ea487986",
   "metadata": {},
   "outputs": [
    {
     "data": {
      "text/plain": [
       "'Hello'"
      ]
     },
     "execution_count": 4,
     "metadata": {},
     "output_type": "execute_result"
    }
   ],
   "source": [
    "'Hello World!'[0:5]"
   ]
  },
  {
   "cell_type": "code",
   "execution_count": 5,
   "id": "8d4f0cf4",
   "metadata": {},
   "outputs": [
    {
     "data": {
      "text/plain": [
       "'Hello'"
      ]
     },
     "execution_count": 5,
     "metadata": {},
     "output_type": "execute_result"
    }
   ],
   "source": [
    "'Hello World!'[:5]"
   ]
  },
  {
   "cell_type": "code",
   "execution_count": 6,
   "id": "2e566d67",
   "metadata": {},
   "outputs": [
    {
     "data": {
      "text/plain": [
       "'lo World!'"
      ]
     },
     "execution_count": 6,
     "metadata": {},
     "output_type": "execute_result"
    }
   ],
   "source": [
    "'Hello World!'[3:]"
   ]
  },
  {
   "cell_type": "code",
   "execution_count": 7,
   "id": "7316e680",
   "metadata": {},
   "outputs": [
    {
     "data": {
      "text/plain": [
       "'HELLO'"
      ]
     },
     "execution_count": 7,
     "metadata": {},
     "output_type": "execute_result"
    }
   ],
   "source": [
    "7-->'Hello'.upper()"
   ]
  },
  {
   "cell_type": "code",
   "execution_count": 8,
   "id": "05ed82db",
   "metadata": {},
   "outputs": [
    {
     "data": {
      "text/plain": [
       "True"
      ]
     },
     "execution_count": 8,
     "metadata": {},
     "output_type": "execute_result"
    }
   ],
   "source": [
    "'Hello'.upper().isupper()"
   ]
  },
  {
   "cell_type": "code",
   "execution_count": 9,
   "id": "7339aa7d",
   "metadata": {},
   "outputs": [
    {
     "data": {
      "text/plain": [
       "'hello'"
      ]
     },
     "execution_count": 9,
     "metadata": {},
     "output_type": "execute_result"
    }
   ],
   "source": [
    "'Hello'.upper().lower()"
   ]
  },
  {
   "cell_type": "code",
   "execution_count": 10,
   "id": "e83c7e7f",
   "metadata": {},
   "outputs": [
    {
     "data": {
      "text/plain": [
       "['Remember,', 'remember,', 'the', 'fifth', 'of', 'july']"
      ]
     },
     "execution_count": 10,
     "metadata": {},
     "output_type": "execute_result"
    }
   ],
   "source": [
    "8-->'Remember, remember, the fifth of july'.split()"
   ]
  },
  {
   "cell_type": "code",
   "execution_count": 13,
   "id": "8be482b0",
   "metadata": {},
   "outputs": [
    {
     "data": {
      "text/plain": [
       "'There-can-oly-one'"
      ]
     },
     "execution_count": 13,
     "metadata": {},
     "output_type": "execute_result"
    }
   ],
   "source": [
    "'-'.join('There can oly one'.split())"
   ]
  },
  {
   "cell_type": "code",
   "execution_count": 15,
   "id": "cbb99042",
   "metadata": {},
   "outputs": [
    {
     "data": {
      "text/plain": [
       "'sai*******'"
      ]
     },
     "execution_count": 15,
     "metadata": {},
     "output_type": "execute_result"
    }
   ],
   "source": [
    "9-->name = 'sai'\n",
    "name.ljust(10,'*')"
   ]
  },
  {
   "cell_type": "code",
   "execution_count": 16,
   "id": "43354b12",
   "metadata": {},
   "outputs": [
    {
     "data": {
      "text/plain": [
       "'*******sai'"
      ]
     },
     "execution_count": 16,
     "metadata": {},
     "output_type": "execute_result"
    }
   ],
   "source": [
    "name = 'sai'\n",
    "name.rjust(10,'*')"
   ]
  },
  {
   "cell_type": "code",
   "execution_count": 18,
   "id": "18d23e6f",
   "metadata": {},
   "outputs": [
    {
     "data": {
      "text/plain": [
       "'***sai****'"
      ]
     },
     "execution_count": 18,
     "metadata": {},
     "output_type": "execute_result"
    }
   ],
   "source": [
    "name = 'sai'\n",
    "name.center(10,'*')"
   ]
  },
  {
   "cell_type": "code",
   "execution_count": null,
   "id": "ba62ff43",
   "metadata": {},
   "outputs": [],
   "source": [
    "10-->we can use strip to remove whitespace like  lstrip() & rstrip()"
   ]
  }
 ],
 "metadata": {
  "kernelspec": {
   "display_name": "Python 3 (ipykernel)",
   "language": "python",
   "name": "python3"
  },
  "language_info": {
   "codemirror_mode": {
    "name": "ipython",
    "version": 3
   },
   "file_extension": ".py",
   "mimetype": "text/x-python",
   "name": "python",
   "nbconvert_exporter": "python",
   "pygments_lexer": "ipython3",
   "version": "3.9.12"
  }
 },
 "nbformat": 4,
 "nbformat_minor": 5
}
