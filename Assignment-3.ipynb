{
 "cells": [
  {
   "cell_type": "code",
   "execution_count": null,
   "id": "0642dfa0",
   "metadata": {},
   "outputs": [],
   "source": [
    "1--> functions are very useful in programming for any language. with the help of functions we can write our in more readble way by \n",
    "resusing the blocks of code whever required."
   ]
  },
  {
   "cell_type": "code",
   "execution_count": null,
   "id": "0d3f2719",
   "metadata": {},
   "outputs": [],
   "source": [
    "2-->after defining the function with keyword 'def' we will write our logic there. but function will run code when we call that function."
   ]
  },
  {
   "cell_type": "code",
   "execution_count": null,
   "id": "f08c42b2",
   "metadata": {},
   "outputs": [],
   "source": [
    "3--> we use keyword 'def' to define the function"
   ]
  },
  {
   "cell_type": "code",
   "execution_count": null,
   "id": "fa858496",
   "metadata": {},
   "outputs": [],
   "source": [
    "4-->difference between function and function call is that function means we are defining the function and function call means we \n",
    "calling the function to run or to execute. same way we can call function where ever we want same type functionality."
   ]
  },
  {
   "cell_type": "code",
   "execution_count": null,
   "id": "e59294b4",
   "metadata": {},
   "outputs": [],
   "source": [
    "5-->both has single scope. where we declare varibale directly in body is known as global scope and where er declare varibale in function it self\n",
    "known as local variable."
   ]
  },
  {
   "cell_type": "code",
   "execution_count": null,
   "id": "0362b0f8",
   "metadata": {},
   "outputs": [],
   "source": [
    "6-->when we return the function the value is remained and undefined untill next time function called.   \n",
    "        "
   ]
  },
  {
   "cell_type": "code",
   "execution_count": null,
   "id": "04acc46b",
   "metadata": {},
   "outputs": [],
   "source": [
    "7-->the concept of retun value is what ever the result vlaue is there that will retun the result to callable function after execution\n",
    "complete. yes it is possible to have retun in expression."
   ]
  },
  {
   "cell_type": "code",
   "execution_count": null,
   "id": "a53e0245",
   "metadata": {},
   "outputs": [],
   "source": [
    "8--> if a function does not have retun function it woun't retun anything."
   ]
  },
  {
   "cell_type": "code",
   "execution_count": null,
   "id": "e34f297e",
   "metadata": {},
   "outputs": [],
   "source": [
    "9-->How do you make a function variable refer to the global variable?\n",
    "we can use keyword 'global' to access global variable inside function."
   ]
  },
  {
   "cell_type": "code",
   "execution_count": null,
   "id": "dec25781",
   "metadata": {},
   "outputs": [],
   "source": [
    "10-->the data type of none is 'NONE' itself. because we use for null value or no value."
   ]
  },
  {
   "cell_type": "code",
   "execution_count": null,
   "id": "246dfc58",
   "metadata": {},
   "outputs": [],
   "source": [
    "11-->What does the sentence import areallyourpetsnamederic do?\n",
    "it will try to import the module with that name."
   ]
  },
  {
   "cell_type": "code",
   "execution_count": null,
   "id": "2440b0da",
   "metadata": {},
   "outputs": [],
   "source": [
    "12-->If you had a bacon() feature in a spam module, what would you call it after importing spam?\n",
    "\n",
    "after importing we can call like 'spam.bacon()'."
   ]
  },
  {
   "cell_type": "code",
   "execution_count": null,
   "id": "f8f22faa",
   "metadata": {},
   "outputs": [],
   "source": [
    "13-->What can you do to save a programme from crashing if it encounters an error?\n",
    "\n",
    "we can use try to encounter the error"
   ]
  },
  {
   "cell_type": "code",
   "execution_count": null,
   "id": "cfeaeaed",
   "metadata": {},
   "outputs": [],
   "source": [
    "14-->What is the purpose of the try clause? What is the purpose of the except clause?\n",
    "\n",
    "we use try to run program even with any exceptions we will give that exception reference under except."
   ]
  }
 ],
 "metadata": {
  "kernelspec": {
   "display_name": "Python 3 (ipykernel)",
   "language": "python",
   "name": "python3"
  },
  "language_info": {
   "codemirror_mode": {
    "name": "ipython",
    "version": 3
   },
   "file_extension": ".py",
   "mimetype": "text/x-python",
   "name": "python",
   "nbconvert_exporter": "python",
   "pygments_lexer": "ipython3",
   "version": "3.9.12"
  }
 },
 "nbformat": 4,
 "nbformat_minor": 5
}
