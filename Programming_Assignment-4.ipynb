{
  "nbformat": 4,
  "nbformat_minor": 0,
  "metadata": {
    "colab": {
      "provenance": []
    },
    "kernelspec": {
      "name": "python3",
      "display_name": "Python 3"
    },
    "language_info": {
      "name": "python"
    }
  },
  "cells": [
    {
      "cell_type": "code",
      "execution_count": 11,
      "metadata": {
        "colab": {
          "base_uri": "https://localhost:8080/"
        },
        "id": "hRBaDUOZqtyh",
        "outputId": "7972eb8e-168e-45e1-a3d3-39b9275c6e65"
      },
      "outputs": [
        {
          "output_type": "stream",
          "name": "stdout",
          "text": [
            "enter number: 5\n",
            "120\n"
          ]
        }
      ],
      "source": [
        "1-->\n",
        "num = int(input(\"enter number: \"))\n",
        "factorial = 1\n",
        "\n",
        "for i in range(1,num+1):\n",
        "  factorial = factorial * i\n",
        "print(factorial)"
      ]
    },
    {
      "cell_type": "code",
      "source": [
        "2-->\n",
        "\n",
        "num = 5\n",
        "\n",
        "for i in range(1,11):\n",
        "  print(f'{num} x {i} = {num*i}')"
      ],
      "metadata": {
        "colab": {
          "base_uri": "https://localhost:8080/"
        },
        "id": "EThoIr0crccH",
        "outputId": "7fe798dd-0201-46d4-8599-6349e5d7b44a"
      },
      "execution_count": 18,
      "outputs": [
        {
          "output_type": "stream",
          "name": "stdout",
          "text": [
            "5 x 1 = 5\n",
            "5 x 2 = 10\n",
            "5 x 3 = 15\n",
            "5 x 4 = 20\n",
            "5 x 5 = 25\n",
            "5 x 6 = 30\n",
            "5 x 7 = 35\n",
            "5 x 8 = 40\n",
            "5 x 9 = 45\n",
            "5 x 10 = 50\n"
          ]
        }
      ]
    },
    {
      "cell_type": "code",
      "source": [
        "3-->\n",
        "\n",
        "def Fibonacci(n):   \n",
        "    if n < 0:\n",
        "        print(\"Incorrect input\")\n",
        "    elif n == 0:\n",
        "      return 0\n",
        "    elif n == 1 or n == 2:\n",
        "      return 1\n",
        "    else:\n",
        "      return Fibonacci(n-1) + Fibonacci(n-2)\n",
        "print(Fibonacci(9))\n"
      ],
      "metadata": {
        "colab": {
          "base_uri": "https://localhost:8080/"
        },
        "id": "d-JAXsYgu23y",
        "outputId": "174e3984-9791-4c50-83df-2a0bda6f2507"
      },
      "execution_count": 20,
      "outputs": [
        {
          "output_type": "stream",
          "name": "stdout",
          "text": [
            "34\n"
          ]
        }
      ]
    },
    {
      "cell_type": "code",
      "source": [
        "4-->\n",
        "\n",
        "number = 153\n",
        "temp = number\n",
        "sum = 0\n",
        "order = len(str(number))\n",
        "while temp>0:\n",
        "  digits = temp %10\n",
        "  sum += digits**order\n",
        "  temp = temp //10\n",
        "if sum == number:\n",
        "  print(f'{number} is armstrong')\n",
        "else:\n",
        "  print(f'{number} is not armstrong')\n",
        "\n",
        "\n"
      ],
      "metadata": {
        "colab": {
          "base_uri": "https://localhost:8080/"
        },
        "id": "9ldSojGVx2Eh",
        "outputId": "85485db7-3f9b-4a2e-9b8d-6e8deb167ac2"
      },
      "execution_count": 28,
      "outputs": [
        {
          "output_type": "stream",
          "name": "stdout",
          "text": [
            "153 is armstrong\n"
          ]
        }
      ]
    },
    {
      "cell_type": "code",
      "source": [
        "5-->\n",
        "\n",
        "start = 300\n",
        "end = 1000\n",
        "\n",
        "for num in range(start,end+1):\n",
        "  order = len(str(num))\n",
        "  temp = num\n",
        "  sum = 0\n",
        "  while temp >0:\n",
        "    digits = temp % 10\n",
        "    sum += digits ** order\n",
        "    temp = temp //10\n",
        "  if sum == num:\n",
        "    print(num)\n"
      ],
      "metadata": {
        "colab": {
          "base_uri": "https://localhost:8080/"
        },
        "id": "BlLnDJObzJZ2",
        "outputId": "69e167a1-6fa9-4d14-889d-4104e02290c9"
      },
      "execution_count": 25,
      "outputs": [
        {
          "output_type": "stream",
          "name": "stdout",
          "text": [
            "370\n",
            "371\n",
            "407\n"
          ]
        }
      ]
    },
    {
      "cell_type": "code",
      "source": [
        "6-->\n",
        "\n",
        "num = 10\n",
        "natural_nums = num*(num+1)/2\n",
        "print(natural_nums)"
      ],
      "metadata": {
        "colab": {
          "base_uri": "https://localhost:8080/"
        },
        "id": "EyzjYEwi2F_z",
        "outputId": "9c26fc93-1c03-425e-b2d9-69e34ecda783"
      },
      "execution_count": 31,
      "outputs": [
        {
          "output_type": "stream",
          "name": "stdout",
          "text": [
            "55.0\n"
          ]
        }
      ]
    },
    {
      "cell_type": "code",
      "source": [],
      "metadata": {
        "id": "SbaSUC294NVW"
      },
      "execution_count": null,
      "outputs": []
    }
  ]
}