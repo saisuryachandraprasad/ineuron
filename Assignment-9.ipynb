{
 "cells": [
  {
   "cell_type": "code",
   "execution_count": null,
   "id": "82850928",
   "metadata": {},
   "outputs": [],
   "source": [
    "1-->To what does a relative path refer?\n",
    "realtive path refer to the path which related to present working directory"
   ]
  },
  {
   "cell_type": "code",
   "execution_count": null,
   "id": "2194766b",
   "metadata": {},
   "outputs": [],
   "source": [
    "2-->What does an absolute path start with your operating system?\n",
    "the absolute path start for own system is root file /sai/documnetns/etc....."
   ]
  },
  {
   "cell_type": "code",
   "execution_count": null,
   "id": "b4295bed",
   "metadata": {},
   "outputs": [],
   "source": [
    "3-->What do the functions os.getcwd() and os.chdir() do?\n",
    "os.getcwd()-- used to know to find current working directory\n",
    "os.shdir()--is change directory used to give new path."
   ]
  },
  {
   "cell_type": "code",
   "execution_count": null,
   "id": "2c4aba99",
   "metadata": {},
   "outputs": [],
   "source": [
    "4-->What are the . and .. folders?\n",
    ".with folder is parent folder\n",
    ".. menas subfolder"
   ]
  },
  {
   "cell_type": "code",
   "execution_count": null,
   "id": "48ff82db",
   "metadata": {},
   "outputs": [],
   "source": [
    "5-->In C:\\bacon\\eggs\\spam.txt, which part is the dir name, and which part is the base name?\n",
    "    \n",
    "is the directory name and base nmae is spam.txt"
   ]
  },
  {
   "cell_type": "code",
   "execution_count": null,
   "id": "7b22f1e6",
   "metadata": {},
   "outputs": [],
   "source": [
    "--6>What are the three “mode” arguments that can be passed to the open() function?\n",
    "the three modes can be passed to open function is \n",
    "read mode, write mode, append mode."
   ]
  },
  {
   "cell_type": "code",
   "execution_count": null,
   "id": "38f3ecb7",
   "metadata": {},
   "outputs": [],
   "source": [
    "7-->What happens if an existing file is opened in write mode?\n",
    "it will opens empty file"
   ]
  },
  {
   "cell_type": "code",
   "execution_count": null,
   "id": "f1aad6c8",
   "metadata": {},
   "outputs": [],
   "source": [
    "8-->How do you tell the difference between read() and readlines()?\n",
    "in read() it will read entire document/file and give output\n",
    "but readlines()will give the list of lines in the document/file"
   ]
  },
  {
   "cell_type": "code",
   "execution_count": null,
   "id": "767d3688",
   "metadata": {},
   "outputs": [],
   "source": [
    "What data structure does a shelf value resemble?\n",
    "\n",
    "dictionary type of data sturcture will reseamble the shelf value."
   ]
  }
 ],
 "metadata": {
  "kernelspec": {
   "display_name": "Python 3 (ipykernel)",
   "language": "python",
   "name": "python3"
  },
  "language_info": {
   "codemirror_mode": {
    "name": "ipython",
    "version": 3
   },
   "file_extension": ".py",
   "mimetype": "text/x-python",
   "name": "python",
   "nbconvert_exporter": "python",
   "pygments_lexer": "ipython3",
   "version": "3.9.12"
  }
 },
 "nbformat": 4,
 "nbformat_minor": 5
}
