{
 "cells": [
  {
   "cell_type": "code",
   "execution_count": null,
   "id": "1a2660b6",
   "metadata": {},
   "outputs": [],
   "source": [
    "1-->Boolean type is one of the datetypes of the python has.basically it has two values. They are \"TRUE\" and \"FALSE\". we can use for difference purpose \n",
    "one of the example: a = 5, b = 5 print(bool(a==b))"
   ]
  },
  {
   "cell_type": "code",
   "execution_count": null,
   "id": "4f102c6c",
   "metadata": {},
   "outputs": [],
   "source": [
    "2-->The three different type of boolean type operators are : 'AND','OR','NOT'"
   ]
  },
  {
   "cell_type": "code",
   "execution_count": null,
   "id": "05cea01a",
   "metadata": {},
   "outputs": [],
   "source": [
    "3--> for AND operator\n",
    "T AND T == T\n",
    "T AND F == F\n",
    "F AND T == F\n",
    "F AND F == F\n",
    "\n",
    "FOR OR OPERATOR\n",
    "T OR T == T\n",
    "T OR F == T\n",
    "F OR T == T\n",
    "F OR F == F\n",
    "\n",
    "FOR NOT OPERATOR\n",
    "T NOT == F\n",
    "F NOT == T"
   ]
  },
  {
   "cell_type": "code",
   "execution_count": null,
   "id": "b98351f4",
   "metadata": {},
   "outputs": [],
   "source": [
    "4-->(5 > 4) and (3 == 5) == F\n",
    "not (5 > 4) == F\n",
    "(5 > 4) or (3 == 5) == T\n",
    "not ((5 > 4) or (3 == 5)) ==F\n",
    "(True and True) and (True == False) == F\n",
    "(not False) or (not True) == T"
   ]
  },
  {
   "cell_type": "code",
   "execution_count": null,
   "id": "30ff031a",
   "metadata": {},
   "outputs": [],
   "source": [
    "5--> The 6comparison operators are\n",
    ">\n",
    "<\n",
    "==\n",
    "!=\n",
    "<=\n",
    ">="
   ]
  },
  {
   "cell_type": "code",
   "execution_count": null,
   "id": "ca287f93",
   "metadata": {},
   "outputs": [],
   "source": [
    "6--> the difference between equal to and assignment operators are \n",
    "(1) we use \"=\" to assign any value to variable.\n",
    "(2)we use '==' to check equlity between any two variables."
   ]
  },
  {
   "cell_type": "code",
   "execution_count": null,
   "id": "74259184",
   "metadata": {},
   "outputs": [],
   "source": [
    "7-->\n",
    "block-1\n",
    "spam = 0\n",
    "if spam == 10:\n",
    "print('eggs')\n",
    "\n",
    "\n",
    "block-2\n",
    "if spam > 5:\n",
    "print('bacon')\n",
    "else:\n",
    "print('ham')\n",
    "\n",
    "block-3\n",
    "print('spam')\n",
    "print('spam')"
   ]
  },
  {
   "cell_type": "code",
   "execution_count": null,
   "id": "85a0d37b",
   "metadata": {},
   "outputs": [],
   "source": [
    "8-->spam = 1\n",
    "\n",
    "if spam == 1:\n",
    "    print('Hello')\n",
    "elif spam == 2:\n",
    "    print('Howday')\n",
    "else:\n",
    "    print('Greetings')"
   ]
  },
  {
   "cell_type": "code",
   "execution_count": null,
   "id": "dc30c7a7",
   "metadata": {},
   "outputs": [],
   "source": [
    "9-->we have to press clt + c to stop endless loop."
   ]
  },
  {
   "cell_type": "code",
   "execution_count": null,
   "id": "842f6ee5",
   "metadata": {},
   "outputs": [],
   "source": [
    "10.the difference between break and continue is that.\n",
    "if we use wherever int code. during execution at that point it stop execution.\n",
    "if we use continue at anypoint it will skip that point and will execute rest of the part."
   ]
  },
  {
   "cell_type": "code",
   "execution_count": null,
   "id": "68417bce",
   "metadata": {},
   "outputs": [],
   "source": [
    "11-->in loop range(10), range(0, 10), and range(0, 10, 1) there is no difference at output will be the same for all."
   ]
  },
  {
   "cell_type": "code",
   "execution_count": null,
   "id": "1f8d099e",
   "metadata": {},
   "outputs": [],
   "source": [
    "12-->(1)\n",
    "for i in range(1,10+1):\n",
    "    print(i)\n",
    "    \n",
    "(2)a=0\n",
    "while a <= 10:\n",
    "    print(a)\n",
    "    a += 1"
   ]
  },
  {
   "cell_type": "code",
   "execution_count": null,
   "id": "db2f0923",
   "metadata": {},
   "outputs": [],
   "source": [
    "13-->If you had a function named bacon() inside a module named spam, how would you call it after\n",
    "importing spam?\n",
    "\n",
    "after importing sapm module \n",
    "we can call as -- > spam.bacon()"
   ]
  }
 ],
 "metadata": {
  "kernelspec": {
   "display_name": "Python 3 (ipykernel)",
   "language": "python",
   "name": "python3"
  },
  "language_info": {
   "codemirror_mode": {
    "name": "ipython",
    "version": 3
   },
   "file_extension": ".py",
   "mimetype": "text/x-python",
   "name": "python",
   "nbconvert_exporter": "python",
   "pygments_lexer": "ipython3",
   "version": "3.9.12"
  }
 },
 "nbformat": 4,
 "nbformat_minor": 5
}
