{
  "nbformat": 4,
  "nbformat_minor": 0,
  "metadata": {
    "colab": {
      "provenance": []
    },
    "kernelspec": {
      "name": "python3",
      "display_name": "Python 3"
    },
    "language_info": {
      "name": "python"
    }
  },
  "cells": [
    {
      "cell_type": "code",
      "execution_count": 2,
      "metadata": {
        "colab": {
          "base_uri": "https://localhost:8080/"
        },
        "id": "h5j-9MpORYu8",
        "outputId": "3bea3541-fa11-423c-b917-0c3032673518"
      },
      "outputs": [
        {
          "output_type": "stream",
          "name": "stdout",
          "text": [
            "15\n"
          ]
        }
      ],
      "source": [
        "1-->\n",
        "nums = [1,2,3,4,5]\n",
        "sum = 0\n",
        "\n",
        "for i in nums:\n",
        "  sum = i +sum \n",
        "\n",
        "print(sum)\n",
        "  "
      ]
    },
    {
      "cell_type": "code",
      "source": [
        "2-->\n",
        "nums = [1,2,3,4,5,7,8]\n",
        "\n",
        "print(max(nums))"
      ],
      "metadata": {
        "colab": {
          "base_uri": "https://localhost:8080/"
        },
        "id": "ZZb_zGnzSEKN",
        "outputId": "0d3cb95e-7520-4eb9-f97a-1e12105abc10"
      },
      "execution_count": 4,
      "outputs": [
        {
          "output_type": "stream",
          "name": "stdout",
          "text": [
            "8\n"
          ]
        }
      ]
    },
    {
      "cell_type": "code",
      "source": [
        "3-->\n",
        "nums = [1,2,3,4,5,7,8]\n",
        "print(nums[::-1])"
      ],
      "metadata": {
        "colab": {
          "base_uri": "https://localhost:8080/"
        },
        "id": "xlei_t_ESTgY",
        "outputId": "b57a4cf1-b205-4768-dc5a-b9a507ecad4c"
      },
      "execution_count": 5,
      "outputs": [
        {
          "output_type": "stream",
          "name": "stdout",
          "text": [
            "[8, 7, 5, 4, 3, 2, 1]\n"
          ]
        }
      ]
    },
    {
      "cell_type": "code",
      "source": [
        "4-->\n",
        "nums = [1,2,3,4,5,7]\n",
        "temp = nums[0:3]\n",
        "new_nums = nums[3:] + temp\n",
        "print(new_nums)"
      ],
      "metadata": {
        "colab": {
          "base_uri": "https://localhost:8080/"
        },
        "id": "iFDe-KBoSogj",
        "outputId": "e62cd8e0-9c33-4011-92de-e050cec479be"
      },
      "execution_count": 12,
      "outputs": [
        {
          "output_type": "stream",
          "name": "stdout",
          "text": [
            "[4, 5, 7, 1, 2, 3]\n"
          ]
        }
      ]
    },
    {
      "cell_type": "code",
      "source": [
        "5 -->\n",
        "nums = [1,2,3,4,5]\n",
        "\n",
        "def chec_monotonic(nums):\n",
        "  n = len(nums)\n",
        "  return (all(nums[i]<=nums[i+1] for i in range(n-1)) or\n",
        "            all(nums[i]>=nums[i+1] for i in range(n-1)))\n",
        "   \n",
        "print(chec_monotonic(nums))\n",
        "\n"
      ],
      "metadata": {
        "colab": {
          "base_uri": "https://localhost:8080/"
        },
        "id": "rf7orznXcchU",
        "outputId": "1d071d80-99a2-41cb-9441-bb1b34ed293c"
      },
      "execution_count": 23,
      "outputs": [
        {
          "output_type": "stream",
          "name": "stdout",
          "text": [
            "True\n"
          ]
        }
      ]
    },
    {
      "cell_type": "code",
      "source": [],
      "metadata": {
        "id": "GJkeV-KKS1m1"
      },
      "execution_count": 16,
      "outputs": []
    },
    {
      "cell_type": "code",
      "source": [],
      "metadata": {
        "id": "mSBqg8egXSyO"
      },
      "execution_count": null,
      "outputs": []
    }
  ]
}