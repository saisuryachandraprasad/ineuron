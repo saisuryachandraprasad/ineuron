{
 "cells": [
  {
   "cell_type": "code",
   "execution_count": null,
   "id": "53764bdd",
   "metadata": {},
   "outputs": [],
   "source": [
    "1--> in puython standard library no such puinput plus library. most of libraries won't be avaliable in python itself by default \n",
    "we have to install externally. by using pip. like the way we install pandas and numpy"
   ]
  },
  {
   "cell_type": "code",
   "execution_count": null,
   "id": "9a737b04",
   "metadata": {},
   "outputs": [],
   "source": [
    "2-->Why is PyInputPlus commonly imported with import pyinputplus as pypi?\n",
    "\n",
    "not only the above mentioned module as pypi. because we are importing as shortname for our convenince. not only pypi.\n",
    "we import pands as pd, numpy as npetc."
   ]
  },
  {
   "cell_type": "code",
   "execution_count": null,
   "id": "30ce2a20",
   "metadata": {},
   "outputs": [],
   "source": [
    "3-->How do you distinguish between inputInt() and inputFloat()?\n",
    "in inputint() we trying to accept intvalues from user.\n",
    "through inputfloat we trying to accept float values from user"
   ]
  },
  {
   "cell_type": "code",
   "execution_count": null,
   "id": "d311c3e3",
   "metadata": {},
   "outputs": [],
   "source": [
    "4-->through inputInt() we can set default as min is 0 and max is 99\n",
    "ex: pypi.inputInt(min =0,max=99)"
   ]
  },
  {
   "cell_type": "code",
   "execution_count": null,
   "id": "e3c85413",
   "metadata": {},
   "outputs": [],
   "source": [
    "5-->What is transferred to the keyword arguments allowRegexes and blockRegexes?\n",
    "\n",
    "the name itself sayes that allowregexes will allow the value\n",
    "for block regexes will block specified values."
   ]
  },
  {
   "cell_type": "code",
   "execution_count": null,
   "id": "6e0aab63",
   "metadata": {},
   "outputs": [],
   "source": [
    "6-->If a blank input is entered three times, what does inputStr(limit=3) do?\n",
    "if we enter more than three times it will give error like rety limit exception or validation exception "
   ]
  },
  {
   "cell_type": "code",
   "execution_count": null,
   "id": "3d9f20c4",
   "metadata": {},
   "outputs": [],
   "source": [
    "7-->If blank input is entered three times, what does inputStr(limit=3, default='hello') do?\n",
    "it will accept input as blank upto 3 times then after it will give out of default value that is 'hello', when we give blank input"
   ]
  }
 ],
 "metadata": {
  "kernelspec": {
   "display_name": "Python 3 (ipykernel)",
   "language": "python",
   "name": "python3"
  },
  "language_info": {
   "codemirror_mode": {
    "name": "ipython",
    "version": 3
   },
   "file_extension": ".py",
   "mimetype": "text/x-python",
   "name": "python",
   "nbconvert_exporter": "python",
   "pygments_lexer": "ipython3",
   "version": "3.9.12"
  }
 },
 "nbformat": 4,
 "nbformat_minor": 5
}
