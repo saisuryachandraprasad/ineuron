{
 "cells": [
  {
   "cell_type": "code",
   "execution_count": null,
   "id": "2022e92b",
   "metadata": {},
   "outputs": [],
   "source": [
    "1-->How do you distinguish between shutil.copy() and shutil.copytree()?\n",
    "shutil.copy() means will copy only the selected part or selected file\n",
    "but shutil.copytree() will copy the entire content in the folder"
   ]
  },
  {
   "cell_type": "code",
   "execution_count": null,
   "id": "50d2735a",
   "metadata": {},
   "outputs": [],
   "source": [
    "2-->What function is used to rename files??\n",
    ".rename() is the method used to rename the folder or file"
   ]
  },
  {
   "cell_type": "code",
   "execution_count": null,
   "id": "6c6f25fa",
   "metadata": {},
   "outputs": [],
   "source": [
    "3-->What is the difference between the delete functions in the send2trash and shutil modules?\n",
    "main difference is if we use send2trash the file temporarily deleted and sed to recycle bin we can restore whenever we want.\n",
    "but if we delete through shutil module the file or folder will permanantly deleted."
   ]
  },
  {
   "cell_type": "code",
   "execution_count": null,
   "id": "594ad2d8",
   "metadata": {},
   "outputs": [],
   "source": [
    "4-->4.ZipFile objects have a close() method just like File objects’ close() method. What ZipFile method is\n",
    "equivalent to File objects’ open() method?\n",
    "\n",
    "zipfile.zip() is equivalent to the open() method"
   ]
  },
  {
   "cell_type": "code",
   "execution_count": 3,
   "id": "3eccaced",
   "metadata": {},
   "outputs": [],
   "source": [
    "import os \n",
    "import shutil\n",
    "\n",
    "def moveFileType(folder):\n",
    "    for folderName, subfolders, filenames in os.walk(folder):\n",
    "        for filename in filenames:\n",
    "            if filename.endswith('.jpg','.pdf'):\n",
    "                shutil.copy(os.path.join(folderName, filename), 'D:\\move_test'"
   ]
  },
  {
   "cell_type": "code",
   "execution_count": null,
   "id": "0f8f264c",
   "metadata": {},
   "outputs": [],
   "source": []
  },
  {
   "cell_type": "code",
   "execution_count": null,
   "id": "c8de0b64",
   "metadata": {},
   "outputs": [],
   "source": []
  },
  {
   "cell_type": "code",
   "execution_count": null,
   "id": "8b6dc9ef",
   "metadata": {},
   "outputs": [],
   "source": []
  }
 ],
 "metadata": {
  "kernelspec": {
   "display_name": "Python 3 (ipykernel)",
   "language": "python",
   "name": "python3"
  },
  "language_info": {
   "codemirror_mode": {
    "name": "ipython",
    "version": 3
   },
   "file_extension": ".py",
   "mimetype": "text/x-python",
   "name": "python",
   "nbconvert_exporter": "python",
   "pygments_lexer": "ipython3",
   "version": "3.9.12"
  }
 },
 "nbformat": 4,
 "nbformat_minor": 5
}
