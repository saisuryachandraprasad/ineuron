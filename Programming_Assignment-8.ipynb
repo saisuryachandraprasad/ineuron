{
  "nbformat": 4,
  "nbformat_minor": 0,
  "metadata": {
    "colab": {
      "provenance": [],
      "collapsed_sections": []
    },
    "kernelspec": {
      "name": "python3",
      "display_name": "Python 3"
    },
    "language_info": {
      "name": "python"
    }
  },
  "cells": [
    {
      "cell_type": "code",
      "execution_count": 3,
      "metadata": {
        "id": "uOjlv6RXxZqI"
      },
      "outputs": [],
      "source": [
        "import numpy as np"
      ]
    },
    {
      "cell_type": "code",
      "source": [
        "1-->\n",
        "mat1 = np.array([[1,2,3], [4,5,6]])\n",
        "mat2 = np.array([[6,5,4], [3,2,1]])\n",
        "\n",
        "print(mat1+mat2)"
      ],
      "metadata": {
        "colab": {
          "base_uri": "https://localhost:8080/"
        },
        "id": "UeV940i53aWN",
        "outputId": "7e2f1e53-0658-442c-d5da-5d23cd895433"
      },
      "execution_count": 10,
      "outputs": [
        {
          "output_type": "stream",
          "name": "stdout",
          "text": [
            "[[7 7 7]\n",
            " [7 7 7]]\n"
          ]
        }
      ]
    },
    {
      "cell_type": "code",
      "source": [
        "2-->\n",
        "\n",
        "mat2 = np.array([[6,5,4], [3,2,1]])\n",
        "\n",
        "print(mat1*mat2)"
      ],
      "metadata": {
        "colab": {
          "base_uri": "https://localhost:8080/"
        },
        "id": "gQAvhCUY4_A6",
        "outputId": "5ea10995-e354-4d06-b512-10166be77b34"
      },
      "execution_count": 8,
      "outputs": [
        {
          "output_type": "stream",
          "name": "stdout",
          "text": [
            "[[ 6 10 12]\n",
            " [12 10  6]]\n"
          ]
        }
      ]
    },
    {
      "cell_type": "code",
      "source": [
        "3-->\n",
        "\n",
        "mat1 = np.array([[1,2,3], [4,5,6]])\n",
        "print(mat1.transpose())"
      ],
      "metadata": {
        "colab": {
          "base_uri": "https://localhost:8080/"
        },
        "id": "ailSiPFY5wOK",
        "outputId": "46680a0a-4f16-40c7-9d8f-06e0fab5f2d4"
      },
      "execution_count": 9,
      "outputs": [
        {
          "output_type": "stream",
          "name": "stdout",
          "text": [
            "[[1 4]\n",
            " [2 5]\n",
            " [3 6]]\n"
          ]
        }
      ]
    },
    {
      "cell_type": "code",
      "source": [
        "4-->\n",
        "\n",
        "words= ['box','peg','jug','mug']\n",
        "\n",
        "words.sort()\n",
        "print(words)"
      ],
      "metadata": {
        "colab": {
          "base_uri": "https://localhost:8080/"
        },
        "id": "9aKRptV35_1U",
        "outputId": "13553e0b-1398-4ee8-9c46-8f2c32fb9295"
      },
      "execution_count": 14,
      "outputs": [
        {
          "output_type": "stream",
          "name": "stdout",
          "text": [
            "['box', 'jug', 'mug', 'peg']\n"
          ]
        }
      ]
    },
    {
      "cell_type": "code",
      "source": [
        "5-->\n",
        "string = 'my name is saichandraprasad,'\n",
        "string.replace(',','')"
      ],
      "metadata": {
        "colab": {
          "base_uri": "https://localhost:8080/",
          "height": 36
        },
        "id": "1CxQn0xU6Z6r",
        "outputId": "ff888aa2-8769-4580-edb4-0871134e8aea"
      },
      "execution_count": 16,
      "outputs": [
        {
          "output_type": "execute_result",
          "data": {
            "text/plain": [
              "'my name is saichandraprasad'"
            ],
            "application/vnd.google.colaboratory.intrinsic+json": {
              "type": "string"
            }
          },
          "metadata": {},
          "execution_count": 16
        }
      ]
    },
    {
      "cell_type": "code",
      "source": [],
      "metadata": {
        "id": "c3hlRDdy7Fpj"
      },
      "execution_count": null,
      "outputs": []
    }
  ]
}