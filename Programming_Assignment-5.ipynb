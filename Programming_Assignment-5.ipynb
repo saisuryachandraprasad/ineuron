{
  "nbformat": 4,
  "nbformat_minor": 0,
  "metadata": {
    "colab": {
      "provenance": [],
      "collapsed_sections": []
    },
    "kernelspec": {
      "name": "python3",
      "display_name": "Python 3"
    },
    "language_info": {
      "name": "python"
    }
  },
  "cells": [
    {
      "cell_type": "code",
      "execution_count": null,
      "metadata": {
        "colab": {
          "base_uri": "https://localhost:8080/"
        },
        "id": "wVsqR8cZzCTR",
        "outputId": "97162ffc-0592-4747-e41c-f4815d340b59"
      },
      "outputs": [
        {
          "output_type": "stream",
          "name": "stdout",
          "text": [
            "4\n"
          ]
        }
      ],
      "source": [
        "1-->\n",
        "\n",
        "import math\n",
        "\n",
        "def find_lcm(a,b):\n",
        "  return a*b // math.gcd(a,b)\n",
        "\n",
        "print(find_lcm(2,4))"
      ]
    },
    {
      "cell_type": "code",
      "source": [
        "2-->\n",
        "\n",
        "a = 60\n",
        "b = 48\n",
        "\n",
        "print(math.gcd(a,b))"
      ],
      "metadata": {
        "colab": {
          "base_uri": "https://localhost:8080/"
        },
        "id": "8BwZXuva0o1F",
        "outputId": "3fa4977f-895e-44a7-cc0c-2eae7cda8824"
      },
      "execution_count": null,
      "outputs": [
        {
          "output_type": "stream",
          "name": "stdout",
          "text": [
            "12\n"
          ]
        }
      ]
    },
    {
      "cell_type": "code",
      "source": [
        "3-->\n",
        "\n",
        "dec_num  = int(input('Enter number: '))\n",
        "print(bin(dec_num)[2:])"
      ],
      "metadata": {
        "colab": {
          "base_uri": "https://localhost:8080/"
        },
        "id": "mh8KgizO3rB-",
        "outputId": "2a6169fa-55ec-42e6-bc87-9ea1c72f2e93"
      },
      "execution_count": null,
      "outputs": [
        {
          "output_type": "stream",
          "name": "stdout",
          "text": [
            "Enter number: 10\n",
            "1010\n"
          ]
        }
      ]
    },
    {
      "cell_type": "code",
      "source": [
        "4-->\n",
        "\n",
        "num = 'A'\n",
        "\n",
        "print(ord(num))"
      ],
      "metadata": {
        "id": "wJ8ST5204NvU",
        "colab": {
          "base_uri": "https://localhost:8080/"
        },
        "outputId": "930e3c30-c110-47b9-e9a6-5b46026eb316"
      },
      "execution_count": null,
      "outputs": [
        {
          "output_type": "stream",
          "name": "stdout",
          "text": [
            "65\n"
          ]
        }
      ]
    },
    {
      "cell_type": "code",
      "source": [
        "def add(num1,num2):\n",
        "  return num1 + num2\n",
        "\n",
        "def sub(num1,num2):\n",
        "  return num1-num2\n",
        "  \n",
        "def div(num1,num2):\n",
        "  return num1//num2\n",
        "\n",
        "def mult(num1,num2):\n",
        "  return num1*num2\n",
        "\n",
        "print('Enter your option')\n",
        "print('1 For Addition')\n",
        "print('2 For substraction')\n",
        "print('3 For Division')\n",
        "print('4 For Multiplication')\n",
        "\n",
        "option = int(input('Enter your Option'))\n",
        "num1 = int(input('Enter number1: '))\n",
        "num2 = int(input('Enter number2: '))\n",
        "\n",
        "while True:\n",
        "  if option in range(1,5):\n",
        "     if option == 1:\n",
        "       print(add(num1,num2))\n",
        "       break\n",
        "     elif option == 2:\n",
        "       print(sub(num1,num2))\n",
        "       break\n",
        "     elif option ==  3:\n",
        "       print(div(num1,num2))\n",
        "       break\n",
        "     elif option == 4:\n",
        "       print(mult(num1,num2))\n",
        "       break  \n",
        "  else:\n",
        "    print('Enter valid option')\n",
        "    break\n"
      ],
      "metadata": {
        "id": "zsjTVcGu8ChL",
        "colab": {
          "base_uri": "https://localhost:8080/"
        },
        "outputId": "0375f927-7bd8-490e-d749-9f64b25d0b5f"
      },
      "execution_count": 13,
      "outputs": [
        {
          "output_type": "stream",
          "name": "stdout",
          "text": [
            "Enter your option\n",
            "1 For Addition\n",
            "2 For substraction\n",
            "3 For Division\n",
            "4 For Multiplication\n",
            "Enter your Option4\n",
            "Enter number1: 10\n",
            "Enter number2: 20\n",
            "200\n"
          ]
        }
      ]
    },
    {
      "cell_type": "code",
      "source": [],
      "metadata": {
        "id": "MqGw1l5-967k"
      },
      "execution_count": 10,
      "outputs": []
    }
  ]
}