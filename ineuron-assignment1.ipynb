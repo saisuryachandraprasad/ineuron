{
  "nbformat": 4,
  "nbformat_minor": 0,
  "metadata": {
    "colab": {
      "name": "Untitled2.ipynb",
      "provenance": []
    },
    "kernelspec": {
      "name": "python3",
      "display_name": "Python 3"
    },
    "language_info": {
      "name": "python"
    }
  },
  "cells": [
    {
      "cell_type": "markdown",
      "source": [
        "(1)\n",
        "\n",
        "* is expression\n",
        "'hello' is a value(string)\n",
        "-87.8   is a value(float)\n",
        "- is an expression\n",
        "/ is an expression\n",
        "+ is an expression\n",
        "6 is a value(int)\n",
        "\n"
      ],
      "metadata": {
        "id": "KlP7TigLdGlG"
      }
    },
    {
      "cell_type": "markdown",
      "source": [
        "(2)\n",
        "\n",
        "The difference betwwen string and variable is\n",
        "string is data type which we gibe as a values to something.we can do multiple functions on string.\n",
        "\n",
        "variable- we can simply say that variable is an identifiaction name under were we can store some date or value. "
      ],
      "metadata": {
        "id": "17Lu-JtieYJn"
      }
    },
    {
      "cell_type": "markdown",
      "source": [
        "(3)\n",
        "\n",
        "The different data types are integer, folating numbers, blooean,string etc \n",
        "\n",
        "String: when we need to take names as input there we use string data type \n",
        "integer:in website or in a app where rating as in numbers we use these data type \n",
        "float: thses data we use where we to get output/input in decimal form(ex:25.5)"
      ],
      "metadata": {
        "id": "T85KLfq_faXj"
      }
    },
    {
      "cell_type": "markdown",
      "source": [
        "(4)\n",
        "\n",
        "to be simple an expression consist of operators which it will perform the function which is assigned to that particular operator when we use that operator."
      ],
      "metadata": {
        "id": "4oIh5l2Qg-HA"
      }
    },
    {
      "cell_type": "markdown",
      "source": [
        "(5) the difference between expression and statement is expression is perform some function which is assigned to that particular expression.\n",
        "statement: ex:spam = 10 we created an variable and assigned value to that particular variable. "
      ],
      "metadata": {
        "id": "XSluR9qrhzY_"
      }
    },
    {
      "cell_type": "markdown",
      "source": [
        "(6)After running the following code, what does the variable bacon contain?\n",
        "bacon = 22\n",
        "bacon + 1\n",
        "answer:22"
      ],
      "metadata": {
        "id": "aorXHVyji_f1"
      }
    },
    {
      "cell_type": "markdown",
      "source": [
        "(7)\n",
        "7. What should the values of the following two terms be?\n",
        "'spam'+'spamspam'  = spamspamspam\n",
        "'spam' * 3   = spamspamspam"
      ],
      "metadata": {
        "id": "wIiZ5ojMja3q"
      }
    },
    {
      "cell_type": "markdown",
      "source": [
        "(8) Why is eggs a valid variable name while 100 is invalid?\n",
        "variable name cannot start with number. name only start with letter or underscore but can contain number,letter,special char."
      ],
      "metadata": {
        "id": "kt7cShTUkTGN"
      }
    },
    {
      "cell_type": "markdown",
      "source": [
        "(9) What three functions can be used to get the integer, floating-point number, or string version of a value?\n",
        "\n",
        "we can use for int() for integer\n",
        "we can use for float() for floating number\n",
        "we can use for str()for string"
      ],
      "metadata": {
        "id": "DY-pO9Mek4st"
      }
    },
    {
      "cell_type": "markdown",
      "source": [
        "(10) Why does this expression cause an error? How can you fix it?\n",
        "     'i have eaten' + 99 +'burritos'\n",
        "     error is here we are trying to concatinate string with int we can fix this and answer is  'i have eaten' + ' 99 ' +'burritos'"
      ],
      "metadata": {
        "id": "o9UEYszHlV6l"
      }
    }
  ]
}