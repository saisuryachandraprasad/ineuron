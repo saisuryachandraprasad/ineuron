{
 "cells": [
  {
   "cell_type": "code",
   "execution_count": null,
   "id": "83fa3d24",
   "metadata": {},
   "outputs": [],
   "source": [
    "1--> list is one of the buit in data structure in  python which are changeable or mutable and ordered by sequence\n",
    "which means data is stored according the index value."
   ]
  },
  {
   "cell_type": "code",
   "execution_count": 10,
   "id": "3efae6af",
   "metadata": {},
   "outputs": [
    {
     "name": "stdout",
     "output_type": "stream",
     "text": [
      "[2, 4, 'hello', 6, 8, 10]\n"
     ]
    }
   ],
   "source": [
    "2-->  spam = [2, 4, 6, 8, 10]\n",
    "spam.insert(2,'hello')\n",
    "print(spam)"
   ]
  },
  {
   "cell_type": "code",
   "execution_count": 16,
   "id": "ece8e8ca",
   "metadata": {},
   "outputs": [
    {
     "name": "stdout",
     "output_type": "stream",
     "text": [
      "8\n"
     ]
    }
   ],
   "source": [
    " 3--> spam = [2, 4, 6, 8, 10]\n",
    "print(spam[int(int('3'*2)/11)])"
   ]
  },
  {
   "cell_type": "code",
   "execution_count": 17,
   "id": "9a60dd86",
   "metadata": {},
   "outputs": [
    {
     "name": "stdout",
     "output_type": "stream",
     "text": [
      "10\n"
     ]
    }
   ],
   "source": [
    "4-->spam = [2, 4, 6, 8, 10]\n",
    "print(spam[-1])"
   ]
  },
  {
   "cell_type": "code",
   "execution_count": 18,
   "id": "67fcadb8",
   "metadata": {},
   "outputs": [
    {
     "name": "stdout",
     "output_type": "stream",
     "text": [
      "[2, 4]\n"
     ]
    }
   ],
   "source": [
    "5-->spam = [2, 4, 6, 8, 10]\n",
    "print(spam[:2])"
   ]
  },
  {
   "cell_type": "code",
   "execution_count": 19,
   "id": "2df69579",
   "metadata": {},
   "outputs": [
    {
     "data": {
      "text/plain": [
       "1"
      ]
     },
     "execution_count": 19,
     "metadata": {},
     "output_type": "execute_result"
    }
   ],
   "source": [
    "6-->bacon = [3.14, 'cat',11,'cat',True]\n",
    "bacon.index('cat')"
   ]
  },
  {
   "cell_type": "code",
   "execution_count": 21,
   "id": "9e943afd",
   "metadata": {},
   "outputs": [
    {
     "name": "stdout",
     "output_type": "stream",
     "text": [
      "[3.14, 'cat', 11, 'cat', True, 99]\n"
     ]
    }
   ],
   "source": [
    "7-->bacon = [3.14, 'cat',11,'cat',True]\n",
    "bacon.append(99)\n",
    "print(bacon)"
   ]
  },
  {
   "cell_type": "code",
   "execution_count": 23,
   "id": "5273eb04",
   "metadata": {},
   "outputs": [
    {
     "name": "stdout",
     "output_type": "stream",
     "text": [
      "[3.14, 11, 'cat', True, 99]\n"
     ]
    }
   ],
   "source": [
    "8-->bacon = [3.14, 'cat', 11, 'cat', True, 99]\n",
    "bacon.remove('cat')\n",
    "print(bacon)"
   ]
  },
  {
   "cell_type": "code",
   "execution_count": null,
   "id": "382bec55",
   "metadata": {},
   "outputs": [],
   "source": [
    "9-->list concatenation means we are trying to add two list same way how we do in string concatenation\n",
    "and list replication means we are try to repeat the entire list ex: l1[1,2,3]--> l1*2 will replicate the list twice."
   ]
  },
  {
   "cell_type": "code",
   "execution_count": null,
   "id": "c047dec1",
   "metadata": {},
   "outputs": [],
   "source": [
    "10-->append() and insert() both methods used to incorporate the value in the list but the difference is \n",
    "in if we use append method value will appended at the end.\n",
    "but when we use insert() method we can insert value wherever we want by providing index value."
   ]
  },
  {
   "cell_type": "code",
   "execution_count": null,
   "id": "1cb6ab06",
   "metadata": {},
   "outputs": [],
   "source": [
    "11->the two methos to remove value in list is remove() and pop()"
   ]
  },
  {
   "cell_type": "code",
   "execution_count": null,
   "id": "b0300377",
   "metadata": {},
   "outputs": [],
   "source": [
    "12--> only identical things are list and strings are stored by index so we can do operations on them"
   ]
  },
  {
   "cell_type": "code",
   "execution_count": null,
   "id": "56057c64",
   "metadata": {},
   "outputs": [],
   "source": [
    "13--> tuples are imuutable values are stored in any order.\n",
    "list are mutable so they stored in odered sequence theses is the main difference."
   ]
  },
  {
   "cell_type": "code",
   "execution_count": null,
   "id": "fc9eb393",
   "metadata": {},
   "outputs": [],
   "source": [
    "14-->we can use tuple() and list[] methods to covert from one form of data structure to other form. "
   ]
  },
  {
   "cell_type": "code",
   "execution_count": null,
   "id": "6113ca8b",
   "metadata": {},
   "outputs": [],
   "source": [
    "15-->being list is the mutable in mutable type of data structures it has reference of list value(in the form of index). but in immutable \n",
    "type of data structure it is different."
   ]
  },
  {
   "cell_type": "code",
   "execution_count": null,
   "id": "4b5be6c9",
   "metadata": {},
   "outputs": [],
   "source": [
    "16-->with using of ()-->(42)"
   ]
  },
  {
   "cell_type": "code",
   "execution_count": null,
   "id": "4b53b2c3",
   "metadata": {},
   "outputs": [],
   "source": [
    "17-->copy.copy() will copy the object with same reference. but in the case of deep.copy() it will copy and create new object with \n",
    "new object reference."
   ]
  }
 ],
 "metadata": {
  "kernelspec": {
   "display_name": "Python 3 (ipykernel)",
   "language": "python",
   "name": "python3"
  },
  "language_info": {
   "codemirror_mode": {
    "name": "ipython",
    "version": 3
   },
   "file_extension": ".py",
   "mimetype": "text/x-python",
   "name": "python",
   "nbconvert_exporter": "python",
   "pygments_lexer": "ipython3",
   "version": "3.9.12"
  }
 },
 "nbformat": 4,
 "nbformat_minor": 5
}
